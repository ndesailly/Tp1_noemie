{
 "cells": [
  {
   "cell_type": "markdown",
   "metadata": {
    "id": "Uydjm8B1wMTl"
   },
   "source": [
    "# TP1\n",
    "Attention de ne pas mettre tout les main() en même temps "
   ]
  },
  {
   "cell_type": "markdown",
   "metadata": {
    "id": "0pWjzSvYzSBG"
   },
   "source": [
    "## Exercice 1 -  Syntaxe\n",
    "\n"
   ]
  },
  {
   "cell_type": "code",
   "execution_count": 54,
   "metadata": {
    "id": "k4rBc8PazqNi"
   },
   "outputs": [],
   "source": [
    "class Algebra(object):\n",
    "    def __init__(self):\n",
    "        pass\n",
    "    def somme_des_premiers_entiers(self, n):\n",
    "        #Calcule la somme des n premiers entiers.\n",
    "        return n * (n + 1) // 2\n",
    "        \n",
    "    def factorielle(self, n):\n",
    "        #Calcule la factorielle de n.\n",
    "        if n == 0:\n",
    "            return 1\n",
    "        else:\n",
    "            return n * self.factorielle(n-1)\n"
   ]
  },
  {
   "cell_type": "code",
   "execution_count": 89,
   "metadata": {},
   "outputs": [
    {
     "ename": "IndentationError",
     "evalue": "unexpected indent (3528985935.py, line 2)",
     "output_type": "error",
     "traceback": [
      "\u001b[0;36m  Cell \u001b[0;32mIn[89], line 2\u001b[0;36m\u001b[0m\n\u001b[0;31m    algebre = Algebra()\u001b[0m\n\u001b[0m    ^\u001b[0m\n\u001b[0;31mIndentationError\u001b[0m\u001b[0;31m:\u001b[0m unexpected indent\n"
     ]
    }
   ],
   "source": [
    "\"\"\"def main():\n",
    "    algebre = Algebra()\n",
    "    n=int(input())\n",
    "    print(\"somme premiere entier :\",algebre.somme_des_premiers_entiers(n)) \n",
    "    print(\"factorielle \",algebre.factorielle(n))\"\"\"\n",
    "\n"
   ]
  },
  {
   "cell_type": "code",
   "execution_count": 56,
   "metadata": {},
   "outputs": [
    {
     "name": "stdin",
     "output_type": "stream",
     "text": [
      " 5\n"
     ]
    },
    {
     "name": "stdout",
     "output_type": "stream",
     "text": [
      "15\n",
      "120\n"
     ]
    }
   ],
   "source": [
    "main()"
   ]
  },
  {
   "cell_type": "markdown",
   "metadata": {
    "id": "RQBzsfLPzsf0"
   },
   "source": [
    "## Exercice 2 - Vecteur"
   ]
  },
  {
   "cell_type": "code",
   "execution_count": 168,
   "metadata": {
    "id": "9omTGFkY0FBm"
   },
   "outputs": [],
   "source": [
    "import math\n",
    "class Vecteur(object):\n",
    "    def __init__(self, x=0, y=0, z=0):\n",
    "        #Initialise le vecteur \n",
    "        self.x = x\n",
    "        self.y = y\n",
    "        self.z = z\n",
    "        \n",
    "    def addition(self, vect):\n",
    "        #nouveau vecteur de l'addition du vecteur self avec un vecteur passé en argument\n",
    "        return Vecteur(self.x + vect.x, self.y + vect.y, self.z + vect.z)\n",
    "\n",
    "    def calculerNorme(self):\n",
    "        #calcule de la norme\n",
    "        return math.sqrt(self.x ** 2 + self.y ** 2 + self.z ** 2)\n",
    "\n",
    "    def calculerProduitScalaire(self, v):\n",
    "        #calcule du produit scalaire\n",
    "        return self.x * v.x + self.y * v.y + self.z * v.z\n",
    "\n",
    "    def rotation(self, alpha):\n",
    "        #fait une rotation de α radians dans le plan x, y, α étant passé en argument\n",
    "        new_x = self.x * math.cos(alpha) - self.y * math.sin(alpha)\n",
    "        new_y = self.x * math.sin(alpha) + self.y * math.cos(alpha)\n",
    "        return Vecteur(new_x, new_y, self.z)\n",
    "\n",
    "    def afficher(self):\n",
    "        #Affiche le vecteur\n",
    "        print(\"Coordonnées du vecteur:\",self.x,self.y,self.z)\n",
    "\n",
    "\n"
   ]
  },
  {
   "cell_type": "code",
   "execution_count": 133,
   "metadata": {},
   "outputs": [],
   "source": [
    "\"\"\"def main():\n",
    "    vecteur = Vecteur()\n",
    "    vecteur.__init__\n",
    "    print(\"vecteur initialiser:\",vecteur.x,vecteur.y,vecteur.z)\n",
    "    a=Vecteur(1,2,2)\n",
    "    b=vecteur.addition(a)\n",
    "    print(\"nouveau vecteur additionner entre vecteur et a:\",b.x,b.y,b.z)\n",
    "    print(\"Norme:\",a.calculerNorme())\n",
    "    print(\"Produit Scalaire de vecteur:\",a.calculerProduitScalaire(a))\n",
    "    alpha=math.radians(90)\n",
    "    c=a.rotation(alpha)\n",
    "    print(\"Nouveau vecteur avec la rotation:\",c.x,c.y,c.z)\n",
    "    a.afficher()\"\"\""
   ]
  },
  {
   "cell_type": "code",
   "execution_count": 134,
   "metadata": {},
   "outputs": [
    {
     "name": "stdout",
     "output_type": "stream",
     "text": [
      "vecteur initialiser: 0 0 0\n",
      "nouveau vecteur additionner entre vecteur et a: 1 2 2\n",
      "Norme: 3.0\n",
      "Produit Scalaire de vecteur: 9\n",
      "Nouveau vecteur avec la rotation: -2.0 1.0000000000000002 2\n",
      "Coordonnées du vecteur: 1 2 2\n"
     ]
    }
   ],
   "source": [
    "main()"
   ]
  },
  {
   "cell_type": "markdown",
   "metadata": {
    "id": "tidS_HE20IEi"
   },
   "source": [
    "## Exercice 3 - Triangle\n",
    "\n"
   ]
  },
  {
   "cell_type": "code",
   "execution_count": 209,
   "metadata": {
    "id": "Pq9UkGDK0iF2"
   },
   "outputs": [],
   "source": [
    "import math\n",
    "class Triangle:\n",
    "    def __init__(self, vect1=Vecteur(1,2,3), vect2=Vecteur(4,5,6), vect3=Vecteur(7,8,9)):\n",
    "        #Initialise le triangle \n",
    "        self.vect1 = vect1\n",
    "        self.vect2 = vect2\n",
    "        self.vect3 = vect3\n",
    "\n",
    "    def tourner(self, alpha):\n",
    "        #Fait tourner le triangle autour du centre du repère par alpha radians\n",
    "        self.vect1 = self.vect1.rotation(alpha)\n",
    "        self.vect2 = self.vect2.rotation(alpha)\n",
    "        self.vect3 = self.vect3.rotation(alpha)\n",
    "\n",
    "    def afficher(self):\n",
    "        #afficher les vecteurs\n",
    "        self.vect1.afficher()\n",
    "        self.vect2.afficher()\n",
    "        self.vect3.afficher()\n",
    "        \n",
    "    def deplacer(self, vecteur_depl):\n",
    "        \t#translation du triangle selon un vecteur de déplacement\n",
    "        \tself.vect1 = self.vect1.addition(vecteur_depl)\n",
    "        \tself.vect2 = self.vect2.addition(vecteur_depl)\n",
    "        \tself.vect3 = self.vect3.addition(vecteur_depl)"
   ]
  },
  {
   "cell_type": "code",
   "execution_count": 227,
   "metadata": {},
   "outputs": [
    {
     "data": {
      "text/plain": [
       "'def main():\\n    triangle = Triangle()\\n    print(\"triangle initialiser:\",triangle.vect1,triangle.vect2,triangle.vect3)\\n    alpha=math.radians(45)\\n    triangle.tourner(alpha)\\n    triangle.afficher()\\n    a=Vecteur(1,1,1)\\n    triangle.deplacer(a)\\n    triangle.afficher()'"
      ]
     },
     "execution_count": 227,
     "metadata": {},
     "output_type": "execute_result"
    }
   ],
   "source": [
    "\"\"\"def main():\n",
    "    triangle = Triangle()\n",
    "    print(\"triangle initialiser:\",triangle.vect1,triangle.vect2,triangle.vect3)\n",
    "    alpha=math.radians(45)\n",
    "    triangle.tourner(alpha)\n",
    "    triangle.afficher()\n",
    "    a=Vecteur(1,1,1)\n",
    "    triangle.deplacer(a)\n",
    "    triangle.afficher()\"\"\""
   ]
  },
  {
   "cell_type": "markdown",
   "metadata": {},
   "source": [
    "##### main()"
   ]
  },
  {
   "cell_type": "markdown",
   "metadata": {
    "id": "7RzLyi-O0kHE"
   },
   "source": [
    "## Exercice 4 - Objet 3D\n"
   ]
  },
  {
   "cell_type": "code",
   "execution_count": 251,
   "metadata": {
    "id": "yteVXr7i1P5Z"
   },
   "outputs": [],
   "source": [
    "\n",
    "class Couleur(object):\n",
    "    def __init__(self, r =1, v =2, b =3):\n",
    "        #Initialise la couleur \n",
    "        self.r = r\n",
    "        self.v = v\n",
    "        self.b = b\n",
    "\n",
    "class Object3D (object):\n",
    "    def __init__(self, centre_gravite: Vecteur, couleur : Couleur):\n",
    "        #Initialise l'objet 3D \n",
    "        self.list_triangles= []\n",
    "        self.centre_gravite = centre_gravite\n",
    "        self.couleur = couleur\n",
    "\n",
    "    def afficher(self):\n",
    "        #Affiche les coordonnées de tous les points de l'objet.\n",
    "        self.centre_gravite.afficher()\n",
    "        print(\"Couleur de l'objet:\", self.couleur.r,self.couleur.v,self.couleur.b)\n",
    "    \n",
    "        for i in range (0,len(self.list_triangles)):\n",
    "        \tself.list_triangles[i].afficher()\n",
    "\n",
    "    def ajouter_triangle(self, new_triangle: Triangle):\n",
    "        #Ajoute un triangle \n",
    "        self.list_triangles.append(new_triangle)\n",
    "\n",
    "    def deplacer(self, vecteur_deplacement):\n",
    "        #Effectue une translation \n",
    "        \n",
    "        self.centre_gravite = self.centre_gravite.addition(vecteur_deplacement)\n",
    "        for i in range (0,len(self.list_triangles)):\n",
    "            self.list_triangles[i].deplacer(vecteur_deplacement)"
   ]
  },
  {
   "cell_type": "code",
   "execution_count": 257,
   "metadata": {},
   "outputs": [],
   "source": [
    "'''def main():\n",
    "    couleur= Couleur()\n",
    "    object3d= Object3D(Vecteur(1,2,3),couleur)\n",
    "    print(object3d)\n",
    "    #create triangle\n",
    "    triangle1= Triangle(Vecteur(1,0,0),Vecteur(0,0,1),Vecteur(0,0,1))\n",
    "    triangle2= Triangle(Vecteur(1,0,1),Vecteur(0,1,1),Vecteur(1,0,1))\n",
    "    triangle3= Triangle(Vecteur(0,1,0),Vecteur(1,0,1),Vecteur(0,1,1))\n",
    "    \n",
    "    object3d.ajouter_triangle(triangle1)\n",
    "    object3d.ajouter_triangle(triangle2)\n",
    "    object3d.ajouter_triangle(triangle3)\n",
    "\n",
    "    object3d.afficher()\n",
    "    object3d.deplacer(Vecteur(1,1,1))\n",
    "    print(\"nouveau vecteur apres deplacement\")\n",
    "    object3d.afficher()'''"
   ]
  },
  {
   "cell_type": "code",
   "execution_count": 256,
   "metadata": {},
   "outputs": [
    {
     "name": "stdout",
     "output_type": "stream",
     "text": [
      "<__main__.Object3D object at 0x7f115aff1210>\n",
      "Coordonnées du vecteur: 1 2 3\n",
      "Couleur de l'objet: 1 2 3\n",
      "Coordonnées du vecteur: 1 0 0\n",
      "Coordonnées du vecteur: 0 0 1\n",
      "Coordonnées du vecteur: 0 0 1\n",
      "Coordonnées du vecteur: 1 0 1\n",
      "Coordonnées du vecteur: 0 1 1\n",
      "Coordonnées du vecteur: 1 0 1\n",
      "Coordonnées du vecteur: 0 1 0\n",
      "Coordonnées du vecteur: 1 0 1\n",
      "Coordonnées du vecteur: 0 1 1\n",
      "nouveau vecteur\n",
      "Coordonnées du vecteur: 2 3 4\n",
      "Couleur de l'objet: 1 2 3\n",
      "Coordonnées du vecteur: 2 1 1\n",
      "Coordonnées du vecteur: 1 1 2\n",
      "Coordonnées du vecteur: 1 1 2\n",
      "Coordonnées du vecteur: 2 1 2\n",
      "Coordonnées du vecteur: 1 2 2\n",
      "Coordonnées du vecteur: 2 1 2\n",
      "Coordonnées du vecteur: 1 2 1\n",
      "Coordonnées du vecteur: 2 1 2\n",
      "Coordonnées du vecteur: 1 2 2\n"
     ]
    }
   ],
   "source": [
    "main()"
   ]
  },
  {
   "cell_type": "markdown",
   "metadata": {
    "id": "i7AxRKRH1Shr"
   },
   "source": [
    "## Exercice 5 -"
   ]
  },
  {
   "cell_type": "code",
   "execution_count": 1,
   "metadata": {
    "id": "1XALFEKy1qL0"
   },
   "outputs": [],
   "source": [
    "import random\n",
    "\n",
    "class Dé:\n",
    "    def __init__(self):\n",
    "        self.valeur = 0\n",
    "\n",
    "    def lancer(self):\n",
    "        self.valeur = random.randint(1, 6)\n",
    "\n",
    "class Joueur:\n",
    "    def __init__(self, nom):\n",
    "        self.nom = nom\n",
    "\n",
    "    def lancer(self):\n",
    "        dés = [Dé() for _ in range(3)]\n",
    "        for dé in dés:\n",
    "            dé.lancer()\n",
    "        return dés\n",
    "\n",
    "    def relancer(self, dés):\n",
    "        choix = input(\"Quels dés souhaitez-vous relancer ? (1, 2, 3) : \")\n",
    "        choix = [int(i) - 1 for i in choix.split(',') if i.strip() and int(i) in range(1, 4)]\n",
    "        for idx in choix:\n",
    "            dés[idx].lancer()\n",
    "        return dés\n",
    "\n",
    "class Jeu:\n",
    "    def jouer():\n",
    "        joueur1 = Joueur(\"Joueur 1\")\n",
    "        joueur2 = Joueur(\"Joueur 2\")\n",
    "\n",
    "        dés_joueur1 = joueur1.lancer()\n",
    "        dés_joueur2 = joueur2.lancer()\n",
    "\n",
    "        print(\"Dé du joueur 1 :\", [dé.valeur for dé in dés_joueur1])\n",
    "        print(\"Dé du joueur 2 :\", [dé.valeur for dé in dés_joueur2])\n",
    "\n",
    "        dés_joueur1 = joueur1.relancer(dés_joueur1)\n",
    "        dés_joueur2 = joueur2.relancer(dés_joueur2)\n",
    "\n",
    "        print(\"Dé du joueur 1 après relance :\", [dé.valeur for dé in dés_joueur1])\n",
    "        print(\"Dé du joueur 2 après relance :\", [dé.valeur for dé in dés_joueur2])\n"
   ]
  },
  {
   "cell_type": "code",
   "execution_count": 23,
   "metadata": {
    "tags": []
   },
   "outputs": [],
   "source": [
    "def main():\n",
    "    jeu= Jeu()\n",
    "    jeu.jouer()"
   ]
  },
  {
   "cell_type": "code",
   "execution_count": 24,
   "metadata": {
    "tags": []
   },
   "outputs": [
    {
     "name": "stdout",
     "output_type": "stream",
     "text": [
      "Dé du joueur 1 : [1, 2, 2]\n",
      "Dé du joueur 2 : [5, 3, 4]\n"
     ]
    },
    {
     "name": "stdin",
     "output_type": "stream",
     "text": [
      "Quels dés souhaitez-vous relancer ? (1, 2, 3) :  2\n",
      "Quels dés souhaitez-vous relancer ? (1, 2, 3) :  3\n"
     ]
    },
    {
     "name": "stdout",
     "output_type": "stream",
     "text": [
      "Dé du joueur 1 après relance : [1, 3, 2]\n",
      "Dé du joueur 2 après relance : [5, 3, 5]\n"
     ]
    }
   ],
   "source": [
    "main()"
   ]
  }
 ],
 "metadata": {
  "colab": {
   "authorship_tag": "ABX9TyMvYsq8qoyFOSi2XxWhCrI5",
   "provenance": []
  },
  "kernelspec": {
   "display_name": "Python 3 (ipykernel)",
   "language": "python",
   "name": "python3"
  },
  "language_info": {
   "codemirror_mode": {
    "name": "ipython",
    "version": 3
   },
   "file_extension": ".py",
   "mimetype": "text/x-python",
   "name": "python",
   "nbconvert_exporter": "python",
   "pygments_lexer": "ipython3",
   "version": "3.11.5"
  }
 },
 "nbformat": 4,
 "nbformat_minor": 4
}
